{
  "cells": [
    {
      "cell_type": "code",
      "execution_count": null,
      "metadata": {
        "colab": {
          "base_uri": "https://localhost:8080/"
        },
        "id": "UeTJaTtr85o2",
        "outputId": "a0563968-e613-45ce-8cc4-10ae2780fc05"
      },
      "outputs": [],
      "source": [
        "# pip install scikit-plot"
      ]
    },
    {
      "cell_type": "markdown",
      "metadata": {
        "id": "shAvx8SY-unc"
      },
      "source": [
        "Importing dependencies"
      ]
    },
    {
      "cell_type": "code",
      "execution_count": null,
      "metadata": {
        "id": "vb_2iOUNB6OS"
      },
      "outputs": [],
      "source": [
        "import numpy as np\n",
        "import scikitplot as skplt\n",
        "from sklearn.svm import SVC\n",
        "import matplotlib.pyplot as plt\n",
        "from sklearn.preprocessing import StandardScaler\n",
        "from sklearn.neighbors import KNeighborsClassifier\n",
        "from sklearn.model_selection import train_test_split\n",
        "from sklearn.metrics import accuracy_score, classification_report, roc_curve"
      ]
    },
    {
      "cell_type": "code",
      "execution_count": null,
      "metadata": {
        "id": "2eWLkwNRd3xZ"
      },
      "outputs": [],
      "source": [
        "import tensorflow as tf\n",
        "from keras.layers import Dense\n",
        "from keras.layers import Conv2D\n",
        "from keras.layers import Flatten\n",
        "from keras.layers import MaxPool2D\n",
        "from keras.models import Sequential\n",
        "from tensorflow.keras.applications import VGG16"
      ]
    },
    {
      "cell_type": "markdown",
      "metadata": {
        "id": "erPnSUCN_2El"
      },
      "source": [
        "Importing dataset - [DATASET LINK](https://www.cs.toronto.edu/~kriz/cifar-10-python.tar.gz)"
      ]
    },
    {
      "cell_type": "code",
      "execution_count": null,
      "metadata": {
        "colab": {
          "base_uri": "https://localhost:8080/"
        },
        "id": "MYZcyexx1wDa",
        "outputId": "3d1e17e7-8a35-4771-8113-3e5d2179da5d"
      },
      "outputs": [],
      "source": [
        "(train_x,train_y),(test_x,test_y) = tf.keras.datasets.cifar10.load_data()"
      ]
    },
    {
      "cell_type": "code",
      "execution_count": null,
      "metadata": {
        "id": "ZCShYK3L176A"
      },
      "outputs": [],
      "source": [
        "data_x = np.append(train_x,test_x,axis=0)\n",
        "data_y = np.append(train_y,test_y,axis=0)"
      ]
    },
    {
      "cell_type": "markdown",
      "metadata": {
        "id": "n7joeTrkAFDJ"
      },
      "source": [
        "Training for 80%, Validation 10%, and test for 10%."
      ]
    },
    {
      "cell_type": "code",
      "execution_count": null,
      "metadata": {
        "id": "3wrBdZw1Dluw"
      },
      "outputs": [],
      "source": [
        "train_x, test_x, train_y, test_y = train_test_split(data_x,data_y,train_size=0.8)\n",
        "validate_x, test_x, validate_y, test_y = train_test_split(test_x,test_y,test_size=0.5)"
      ]
    },
    {
      "cell_type": "code",
      "execution_count": null,
      "metadata": {
        "id": "caBxfHnlqxDw"
      },
      "outputs": [],
      "source": [
        "def Accuracy(test_y,predict_y,proba_y):\n",
        "  accuracy = accuracy_score(test_y, predict_y)\n",
        "  print('Accuracy for Testing: %.3f' % accuracy)\n",
        "\n",
        "  print(classification_report(test_y,predict_y,digits=3))\n",
        "\n",
        "  print('ROC Curve')\n",
        "  skplt.metrics.plot_roc(test_y, proba_y)\n",
        "  plt.show()"
      ]
    },
    {
      "cell_type": "markdown",
      "metadata": {
        "id": "6GcwjS7lAvwI"
      },
      "source": [
        "KNN"
      ]
    },
    {
      "cell_type": "code",
      "execution_count": null,
      "metadata": {
        "colab": {
          "base_uri": "https://localhost:8080/",
          "height": 624
        },
        "id": "TFU89TO2ZQxD",
        "outputId": "62f2bd1d-a1a2-44ed-fb21-4564b2ebcc1c"
      },
      "outputs": [],
      "source": [
        "KNN = KNeighborsClassifier(n_neighbors=13)\n",
        "\n",
        "KNN.fit(np.reshape(train_x,(train_x.shape[0],-1)),train_y.ravel())\n",
        "\n",
        "proba_y = KNN.predict_proba(np.reshape(test_x,(test_x.shape[0],-1)))\n",
        "predict_y = np.argmax(proba_y,axis=1)\n",
        "\n",
        "Accuracy(test_y.ravel(),predict_y,proba_y)"
      ]
    },
    {
      "cell_type": "markdown",
      "metadata": {
        "id": "mohW0x-kAy_6"
      },
      "source": [
        "SVM"
      ]
    },
    {
      "cell_type": "code",
      "execution_count": null,
      "metadata": {
        "id": "PjJBEWGQcUuv"
      },
      "outputs": [],
      "source": [
        "classifier = SVC(kernel='poly',decision_function_shape='ovr',probability=True)\n",
        "\n",
        "scaler = StandardScaler()\n",
        "\n",
        "classifier.fit(scaler.fit_transform(np.reshape(train_x,(train_x.shape[0],-1))),train_y.ravel())\n",
        "\n",
        "proba_y = classifier.predict_proba(scaler.transform(np.reshape(test_x,(test_x.shape[0],-1))))\n",
        "predict_y = np.argmax(proba_y,axis=1)\n",
        "\n",
        "Accuracy(test_y.ravel(),predict_y,proba_y)"
      ]
    },
    {
      "cell_type": "markdown",
      "metadata": {
        "id": "s3zJXRjgA9si"
      },
      "source": [
        "CNN"
      ]
    },
    {
      "cell_type": "code",
      "execution_count": null,
      "metadata": {
        "colab": {
          "base_uri": "https://localhost:8080/"
        },
        "id": "oXw_XT3XxtYC",
        "outputId": "b97271e4-f524-4a6d-c4dd-994dbdde086d"
      },
      "outputs": [],
      "source": [
        "base = VGG16(include_top=False,input_shape=(32,32,3),classes=10)\n",
        "\n",
        "model = Sequential()\n",
        "model.add(base)\n",
        "model.add(Flatten())\n",
        "model.add(Dense(1024,activation=('relu'),input_dim=512))\n",
        "model.add(Dense(512,activation=('relu'))) \n",
        "model.add(Dense(256,activation=('relu'))) \n",
        "model.add(Dense(128,activation=('relu')))\n",
        "model.add(Dense(10,activation=('softmax')))\n",
        "\n",
        "model.summary()"
      ]
    },
    {
      "cell_type": "code",
      "execution_count": null,
      "metadata": {
        "colab": {
          "base_uri": "https://localhost:8080/"
        },
        "id": "hW3rD1R9zZcG",
        "outputId": "6efad1dc-6a10-4798-bce5-ec4eb7c6dc14"
      },
      "outputs": [],
      "source": [
        "model.compile(loss='sparse_categorical_crossentropy',optimizer='RMSprop',metrics=['accuracy'])\n",
        "\n",
        "model.fit(train_x,train_y.ravel(), epochs=5, batch_size=16, validation_data=(validate_x, validate_y.ravel()), verbose=1)"
      ]
    },
    {
      "cell_type": "code",
      "execution_count": null,
      "metadata": {
        "colab": {
          "base_uri": "https://localhost:8080/",
          "height": 624
        },
        "id": "LOE5jRb6zoW0",
        "outputId": "bf29d229-d424-4870-d675-bf03c38a01e1"
      },
      "outputs": [],
      "source": [
        "proba_y = model.predict(test_x)\n",
        "predict_y = np.argmax(proba_y,axis=1)\n",
        "\n",
        "Accuracy(test_y.ravel(),predict_y,proba_y)"
      ]
    }
  ],
  "metadata": {
    "accelerator": "GPU",
    "colab": {
      "collapsed_sections": [],
      "name": "S20190010168_code.ipynb",
      "provenance": []
    },
    "kernelspec": {
      "display_name": "Python 3",
      "name": "python3"
    },
    "language_info": {
      "codemirror_mode": {
        "name": "ipython",
        "version": 3
      },
      "file_extension": ".py",
      "mimetype": "text/x-python",
      "name": "python",
      "nbconvert_exporter": "python",
      "pygments_lexer": "ipython3",
      "version": "3.10.7"
    }
  },
  "nbformat": 4,
  "nbformat_minor": 0
}
